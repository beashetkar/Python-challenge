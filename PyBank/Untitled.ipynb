{
 "cells": [
  {
   "cell_type": "code",
   "execution_count": 6,
   "metadata": {},
   "outputs": [],
   "source": [
    "import os\n",
    "import csv"
   ]
  },
  {
   "cell_type": "code",
   "execution_count": 7,
   "metadata": {},
   "outputs": [],
   "source": [
    "def as_currency(amount):\n",
    "    if amount >= 0:\n",
    "        return '${:.2f}'.format(amount)\n",
    "    else:\n",
    "        return '-${:.2f}'.format(-amount)"
   ]
  },
  {
   "cell_type": "code",
   "execution_count": 9,
   "metadata": {},
   "outputs": [
    {
     "name": "stdout",
     "output_type": "stream",
     "text": [
      "Enter the input file.csv name to analyze: budget_data_1.csv\n",
      "Enter the output file.txt name: budget_data_1.out\n"
     ]
    }
   ],
   "source": [
    "# Give the csv file to analyze \n",
    "\n",
    "input_csv = input(\"Enter the input file.csv name to analyze: \")\n",
    "\n",
    "# Give the output text file.txt \n",
    "\n",
    "output_txt = input(\"Enter the output file.txt name: \") \n"
   ]
  },
  {
   "cell_type": "code",
   "execution_count": 10,
   "metadata": {},
   "outputs": [
    {
     "name": "stdout",
     "output_type": "stream",
     "text": [
      "Resources\\budget_data_1.csv\n"
     ]
    }
   ],
   "source": [
    "# Look for the input csv file in Resources directory\n",
    "\n",
    "input_path = os.path.join(\"Resources\", input_csv)\n",
    "print(input_path)"
   ]
  },
  {
   "cell_type": "code",
   "execution_count": 11,
   "metadata": {},
   "outputs": [
    {
     "name": "stdout",
     "output_type": "stream",
     "text": [
      "<_csv.reader object at 0x000001D39810EF50>\n",
      "1154293\n",
      "885773\n",
      "-448704\n",
      "563679\n",
      "555394\n",
      "631974\n",
      "957395\n",
      "1104047\n",
      "693464\n",
      "454932\n",
      "727272\n",
      "125016\n",
      "339251\n",
      "78523\n",
      "977084\n",
      "1158718\n",
      "332681\n",
      "-341227\n",
      "173826\n",
      "742611\n",
      "1189806\n",
      "607363\n",
      "-1172384\n",
      "587993\n",
      "295198\n",
      "-300390\n",
      "468995\n",
      "698452\n",
      "967828\n",
      "-454873\n",
      "375723\n",
      "1140526\n",
      "83836\n",
      "413189\n",
      "551363\n",
      "1195111\n",
      "657081\n",
      "66659\n",
      "803301\n",
      "-953301\n",
      "883934\n"
     ]
    }
   ],
   "source": [
    "try:\n",
    "\n",
    "# Open the CSV\t\n",
    "    with open(input_path,'r', newline='') as csvfile:\n",
    "        \n",
    "        \n",
    "\n",
    "    # CSV reader specifies delimiter and variable thet holds contents\n",
    "        csvreader = csv.reader(csvfile,delimiter=',')\n",
    "        print(csvreader)\n",
    "        \n",
    "        # Skip the first row of the csv\n",
    "        next(csvreader, None)\n",
    "        for row in csvreader:\n",
    "            print(row[1])\n",
    "            \n",
    "except:\n",
    "    print (\"File : \" + input_csv  + \" cannot find in : \" + input_path)\n",
    "    "
   ]
  },
  {
   "cell_type": "code",
   "execution_count": null,
   "metadata": {},
   "outputs": [],
   "source": []
  }
 ],
 "metadata": {
  "kernelspec": {
   "display_name": "Python 3",
   "language": "python",
   "name": "python3"
  },
  "language_info": {
   "codemirror_mode": {
    "name": "ipython",
    "version": 3
   },
   "file_extension": ".py",
   "mimetype": "text/x-python",
   "name": "python",
   "nbconvert_exporter": "python",
   "pygments_lexer": "ipython3",
   "version": "3.6.4"
  }
 },
 "nbformat": 4,
 "nbformat_minor": 2
}
